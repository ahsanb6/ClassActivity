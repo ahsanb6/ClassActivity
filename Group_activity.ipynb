{
  "nbformat": 4,
  "nbformat_minor": 0,
  "metadata": {
    "colab": {
      "provenance": []
    },
    "kernelspec": {
      "name": "python3",
      "display_name": "Python 3"
    },
    "language_info": {
      "name": "python"
    }
  },
  "cells": [
    {
      "cell_type": "code",
      "execution_count": 3,
      "metadata": {
        "colab": {
          "base_uri": "https://localhost:8080/"
        },
        "id": "lchzkjeOQgWY",
        "outputId": "0bd39fe9-0f75-48d3-be1a-97a871d484eb"
      },
      "outputs": [
        {
          "output_type": "execute_result",
          "data": {
            "text/plain": [
              "109"
            ]
          },
          "metadata": {},
          "execution_count": 3
        }
      ],
      "source": [
        "# 1. Largest Difference in List\n",
        "def largest_difference(noList):\n",
        "    if not noList:\n",
        "        return 0\n",
        "\n",
        "    min_val = noList[0] #initial we assume minmum value which are on 0 index\n",
        "    max_diff = 0  # intial we assume difference is 0\n",
        "\n",
        "    for i in range(1, len(noList)):\n",
        "        if noList[i] > min_val:\n",
        "            max_diff = max(max_diff, noList[i] - min_val)\n",
        "        else:\n",
        "            min_val = noList[i]\n",
        "\n",
        "    return max_diff\n",
        "inputList=[1,2,90,10,110]\n",
        "largest_difference(inputList)"
      ]
    },
    {
      "cell_type": "code",
      "source": [
        "#2. First Non-Repeating Character\n",
        "def first_non_repeating_char(s):\n",
        "    freq = {}\n",
        "\n",
        "    # First pass: count characters\n",
        "    for char in s:\n",
        "        freq[char] = freq.get(char, 0) + 1\n",
        "\n",
        "    # Second pass: find first character with count 1\n",
        "    for char in s:\n",
        "        if freq[char] == 1:\n",
        "            return char\n",
        "\n",
        "    return None\n",
        "first_non_repeating_char(\"aabcc\")"
      ],
      "metadata": {
        "colab": {
          "base_uri": "https://localhost:8080/",
          "height": 36
        },
        "id": "fOuzT0IYTQdK",
        "outputId": "5b901b49-d4db-4d54-c187-ddb5dc0d4aa3"
      },
      "execution_count": 6,
      "outputs": [
        {
          "output_type": "execute_result",
          "data": {
            "text/plain": [
              "'b'"
            ],
            "application/vnd.google.colaboratory.intrinsic+json": {
              "type": "string"
            }
          },
          "metadata": {},
          "execution_count": 6
        }
      ]
    },
    {
      "cell_type": "code",
      "source": [
        "# 3. Check If Strings Are Permutations\n",
        "def are_permutations(s1, s2):\n",
        "    if len(s1) != len(s2):\n",
        "        return False   # if lenght is no equal than inital return false\n",
        "\n",
        "    char_count = {}\n",
        "\n",
        "    for ch in s1:\n",
        "        char_count[ch] = char_count.get(ch, 0) + 1\n",
        "\n",
        "    for ch in s2:\n",
        "        if ch not in char_count:\n",
        "            return False\n",
        "        char_count[ch] -= 1\n",
        "        if char_count[ch] < 0:\n",
        "            return False\n",
        "\n",
        "    return True\n",
        "\n",
        "are_permutations(\"abc\", \"bca\")"
      ],
      "metadata": {
        "colab": {
          "base_uri": "https://localhost:8080/"
        },
        "id": "qrmLwNotTQ2r",
        "outputId": "fb9a8bca-f9fa-4183-c3fe-9867cfd2d7c4"
      },
      "execution_count": 9,
      "outputs": [
        {
          "output_type": "execute_result",
          "data": {
            "text/plain": [
              "True"
            ]
          },
          "metadata": {},
          "execution_count": 9
        }
      ]
    },
    {
      "cell_type": "code",
      "source": [
        "# 4. Find the second largest unique number\n",
        "def second_largest_unique(nums):\n",
        "    unique_nums = list(set(nums))  # we convert it into set to remove duplicate\n",
        "\n",
        "\n",
        "    unique_nums.sort(reverse=True)  # Sort the list into reverse and send 2nd value\n",
        "    return unique_nums[1]\n",
        "\n",
        "inputList=[4,5,6,6,7]\n",
        "print(second_largest_unique(inputList))"
      ],
      "metadata": {
        "colab": {
          "base_uri": "https://localhost:8080/"
        },
        "id": "udVH19_wTQ99",
        "outputId": "b66f1507-7f8a-47fb-99b4-8b51a747b429"
      },
      "execution_count": 13,
      "outputs": [
        {
          "output_type": "stream",
          "name": "stdout",
          "text": [
            "6\n"
          ]
        }
      ]
    },
    {
      "cell_type": "code",
      "source": [
        "# 5. Count Distinct Pairs\n",
        "def count_distinct_pairs(nums, target):\n",
        "    seen = set()\n",
        "    pairs = set()\n",
        "\n",
        "    for num in nums:\n",
        "        complement = target - num\n",
        "        if complement in seen:\n",
        "            pair = tuple(sorted((num, complement)))\n",
        "            pairs.add(pair)\n",
        "        seen.add(num)\n",
        "\n",
        "    return len(pairs)\n",
        "inputData = [1,2,3,4,3,6]\n",
        "target=6\n",
        "print(count_distinct_pairs(inputData,target))"
      ],
      "metadata": {
        "colab": {
          "base_uri": "https://localhost:8080/"
        },
        "id": "0m_tPH2uXlMx",
        "outputId": "0f3bc617-7f53-4b37-8705-7c302ffeb6b6"
      },
      "execution_count": 14,
      "outputs": [
        {
          "output_type": "stream",
          "name": "stdout",
          "text": [
            "2\n"
          ]
        }
      ]
    },
    {
      "cell_type": "code",
      "source": [
        "# 6. Remove Duplicates from list\n",
        "def remove_duplicates(nums):\n",
        "    seen = set()\n",
        "    result = []\n",
        "\n",
        "    for num in nums:\n",
        "        if num not in seen:\n",
        "            seen.add(num)\n",
        "            result.append(num)\n",
        "\n",
        "    return result\n",
        "\n",
        "inputList=[1,2,2,3,4,5,1]\n",
        "print(remove_duplicates(inputList))"
      ],
      "metadata": {
        "colab": {
          "base_uri": "https://localhost:8080/"
        },
        "id": "ERXG5xzCXlYD",
        "outputId": "08485c27-2ce8-412e-98ca-a16aa28b1d86"
      },
      "execution_count": 15,
      "outputs": [
        {
          "output_type": "stream",
          "name": "stdout",
          "text": [
            "[1, 2, 3, 4, 5]\n"
          ]
        }
      ]
    },
    {
      "cell_type": "code",
      "source": [
        "# 7. Subsets of a list\n",
        "def subsets(nums):\n",
        "    result = [[]]  # start with the empty subset\n",
        "\n",
        "    for num in nums:\n",
        "        new_subsets = []\n",
        "        for subset in result:\n",
        "            new_subsets.append(subset + [num])\n",
        "        result.extend(new_subsets)\n",
        "\n",
        "    return result\n",
        "\n",
        "inputList=[1,2,3]\n",
        "print(subsets(inputList))"
      ],
      "metadata": {
        "colab": {
          "base_uri": "https://localhost:8080/"
        },
        "id": "kzneBzjzXlgT",
        "outputId": "bf1bbb7b-f466-487a-976a-ce466359f02a"
      },
      "execution_count": 16,
      "outputs": [
        {
          "output_type": "stream",
          "name": "stdout",
          "text": [
            "[[], [1], [2], [1, 2], [3], [1, 3], [2, 3], [1, 2, 3]]\n"
          ]
        }
      ]
    },
    {
      "cell_type": "code",
      "source": [
        "# 8. Longest increasing subsequence\n",
        "def length_of_lis(nums):\n",
        "    if not nums:\n",
        "        return 0\n",
        "\n",
        "    n = len(nums)\n",
        "    dp = [1] * n\n",
        "\n",
        "    for i in range(n):\n",
        "        for j in range(i):\n",
        "            if nums[i] > nums[j]:\n",
        "                dp[i] = max(dp[i], dp[j] + 1)\n",
        "\n",
        "    return max(dp)\n",
        "inputList=[10,9,2,5,3,7,101,18]\n",
        "print(length_of_lis(inputList))"
      ],
      "metadata": {
        "colab": {
          "base_uri": "https://localhost:8080/"
        },
        "id": "cFaLRHPOZW8E",
        "outputId": "e8e9a43d-9479-4540-8edb-d865dce076f8"
      },
      "execution_count": 17,
      "outputs": [
        {
          "output_type": "stream",
          "name": "stdout",
          "text": [
            "4\n"
          ]
        }
      ]
    },
    {
      "cell_type": "code",
      "source": [
        "# 9. Maximum product of Two Numbers\n",
        "def max_product(nums):\n",
        "    if len(nums) < 2:\n",
        "        return None  # Not enough numbers to form a pair\n",
        "\n",
        "    max1 = max2 = float('-inf')  # Two largest numbers\n",
        "    min1 = min2 = float('inf')   # Two smallest numbers\n",
        "\n",
        "    for num in nums:\n",
        "        # Update two largest numbers\n",
        "        if num > max1:\n",
        "            max2 = max1\n",
        "            max1 = num\n",
        "        elif num > max2:\n",
        "            max2 = num\n",
        "\n",
        "        # Update two smallest numbers\n",
        "        if num < min1:\n",
        "            min2 = min1\n",
        "            min1 = num\n",
        "        elif num < min2:\n",
        "            min2 = num\n",
        "\n",
        "    # Calculate both possible products\n",
        "    product1 = max1 * max2\n",
        "    product2 = min1 * min2\n",
        "\n",
        "    # Return the larger one\n",
        "    if product1 > product2:\n",
        "        return product1\n",
        "    else:\n",
        "        return product2\n",
        "\n",
        "inputList=[1,10,-5,1,100]\n",
        "print(max_product(inputList))"
      ],
      "metadata": {
        "colab": {
          "base_uri": "https://localhost:8080/"
        },
        "id": "S85FJXidZXEZ",
        "outputId": "f6d74e60-afcb-41f1-f151-a67d87047bc5"
      },
      "execution_count": 18,
      "outputs": [
        {
          "output_type": "stream",
          "name": "stdout",
          "text": [
            "1000\n"
          ]
        }
      ]
    },
    {
      "cell_type": "code",
      "source": [
        "# 10. Frequency of characters in string\n",
        "def most_frequent_char(s):\n",
        "    freq = {}\n",
        "\n",
        "    for ch in s:\n",
        "        if ch in freq:\n",
        "            freq[ch] += 1\n",
        "        else:\n",
        "            freq[ch] = 1\n",
        "\n",
        "    max_count = 0\n",
        "    result_char = None\n",
        "\n",
        "    for ch in freq:\n",
        "        if freq[ch] > max_count:\n",
        "            max_count = freq[ch]\n",
        "            result_char = ch\n",
        "        elif freq[ch] == max_count:\n",
        "            if ch < result_char:\n",
        "                result_char = ch\n",
        "\n",
        "    return result_char\n",
        "\n",
        "inputList=\"aabbbcc\"\n",
        "print(most_frequent_char(inputList))"
      ],
      "metadata": {
        "colab": {
          "base_uri": "https://localhost:8080/"
        },
        "id": "E_gx7AMlZXMR",
        "outputId": "57c29282-31af-4aa5-f0bb-131fb0a7a13a"
      },
      "execution_count": 20,
      "outputs": [
        {
          "output_type": "stream",
          "name": "stdout",
          "text": [
            "b\n"
          ]
        }
      ]
    },
    {
      "cell_type": "code",
      "source": [
        "# 11. Print prime number less than N\n",
        "def print_primes_less_than(n):\n",
        "    for num in range(2, n):\n",
        "        is_prime = True\n",
        "        for i in range(2, num):\n",
        "            if num % i == 0:\n",
        "                is_prime = False\n",
        "                break\n",
        "        if is_prime:\n",
        "            print(num, end=\", \")\n",
        "input=10;\n",
        "print(print_primes_less_than(input))"
      ],
      "metadata": {
        "colab": {
          "base_uri": "https://localhost:8080/"
        },
        "id": "6AdoTsEDboRz",
        "outputId": "05eefc39-a5c4-4d52-ab3d-3d48a5420fce"
      },
      "execution_count": 21,
      "outputs": [
        {
          "output_type": "stream",
          "name": "stdout",
          "text": [
            "2, 3, 5, 7, None\n"
          ]
        }
      ]
    },
    {
      "cell_type": "code",
      "source": [
        "# 12. Sum of variable length arguments\n",
        "def sum_numbers(*args):\n",
        "    total = 0\n",
        "    for num in args:\n",
        "      total += num\n",
        "    return total\n",
        "\n",
        "print(2,3,4)"
      ],
      "metadata": {
        "colab": {
          "base_uri": "https://localhost:8080/"
        },
        "id": "q1w9X0uQboVy",
        "outputId": "731f0c40-949c-4fcc-ee60-7d5fdba0f9ec"
      },
      "execution_count": 45,
      "outputs": [
        {
          "output_type": "stream",
          "name": "stdout",
          "text": [
            "2 3 4\n"
          ]
        }
      ]
    },
    {
      "cell_type": "code",
      "source": [
        "#. 13. Find the sutdent with highest score\n",
        "def highest_score_student(scores):\n",
        "    max_score = -1\n",
        "    top_student = \"\"\n",
        "\n",
        "    for name in scores:\n",
        "        if scores[name] > max_score:\n",
        "            max_score = scores[name]\n",
        "            top_student = name\n",
        "\n",
        "    return top_student\n",
        "inputList={\"Alice\": 90, \"Bob\": 85, \"Charlie\": 95}\n",
        "print(highest_score_student(inputList))"
      ],
      "metadata": {
        "colab": {
          "base_uri": "https://localhost:8080/"
        },
        "id": "0JjODBWTboZ1",
        "outputId": "9d9bf3a0-90df-479b-f808-e1c33be0489f"
      },
      "execution_count": 28,
      "outputs": [
        {
          "output_type": "stream",
          "name": "stdout",
          "text": [
            "Charlie\n"
          ]
        }
      ]
    },
    {
      "cell_type": "code",
      "source": [
        "#. 14 apply lambda to list\n",
        "def apply_lambda_to_list(lst, func):\n",
        "    return list(map(func, lst))\n",
        "\n",
        "inputList=[1,2,3,4]\n",
        "lambda_func = lambda x: x ** 2\n",
        "print(apply_lambda_to_list(inputList, lambda_func))"
      ],
      "metadata": {
        "colab": {
          "base_uri": "https://localhost:8080/"
        },
        "id": "uTmp93lkboeI",
        "outputId": "0aefffe9-fc94-4330-ced1-8c7123031d46"
      },
      "execution_count": 30,
      "outputs": [
        {
          "output_type": "stream",
          "name": "stdout",
          "text": [
            "[1, 4, 9, 16]\n"
          ]
        }
      ]
    },
    {
      "cell_type": "code",
      "source": [
        "# 15. Sum or multiply based on keyword\n",
        "def sum_or_multiply(*args, operation='sum'):\n",
        "    if operation == 'multiply':\n",
        "        result = 1\n",
        "        for num in args:\n",
        "            result *= num\n",
        "        return result\n",
        "    else:\n",
        "        sumResult = 0\n",
        "        for num in args:\n",
        "            sumResult += num\n",
        "        return sumResult\n",
        "\n",
        "inputList = [1, 2, 3, 4]\n",
        "operation = 'multiply'\n",
        "print(sum_or_multiply(*inputList, operation=operation))"
      ],
      "metadata": {
        "colab": {
          "base_uri": "https://localhost:8080/"
        },
        "id": "A8t7iSxCeOeE",
        "outputId": "6bf43754-5a6d-4205-f968-e8bc6fdfc150"
      },
      "execution_count": 43,
      "outputs": [
        {
          "output_type": "stream",
          "name": "stdout",
          "text": [
            "24\n"
          ]
        }
      ]
    }
  ]
}